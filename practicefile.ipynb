{
 "cells": [
  {
   "cell_type": "code",
   "execution_count": 1,
   "id": "13df0887",
   "metadata": {},
   "outputs": [
    {
     "name": "stdout",
     "output_type": "stream",
     "text": [
      "0.625\n",
      "17\n"
     ]
    }
   ],
   "source": [
    "#Exmaple, do not modify!\n",
    "print(5/8)\n",
    "#Addition\n",
    "print(7+10)"
   ]
  },
  {
   "cell_type": "code",
   "execution_count": 2,
   "id": "e47b613f",
   "metadata": {},
   "outputs": [
    {
     "name": "stdout",
     "output_type": "stream",
     "text": [
      "10\n",
      "0\n",
      "15\n",
      "5.0\n",
      "4\n",
      "16\n"
     ]
    }
   ],
   "source": [
    "#Addition\n",
    "print(5+5)\n",
    "#Subtarction\n",
    "print(5-5)\n",
    "#Multiplication\n",
    "print(3*5)\n",
    "#Division\n",
    "print(10/2)\n",
    "#Modulus\n",
    "print(18%7)\n",
    "#Power\n",
    "print(4**2)"
   ]
  },
  {
   "cell_type": "code",
   "execution_count": 8,
   "id": "f75ac412",
   "metadata": {},
   "outputs": [
    {
     "name": "stdout",
     "output_type": "stream",
     "text": [
      "1750.0000000000002\n",
      "6750.0\n"
     ]
    }
   ],
   "source": [
    "#finding out the amount\n",
    "P=5000\n",
    "R=0.07\n",
    "T=5\n",
    "SI=(P*R*T)\n",
    "print(SI)\n",
    "A=P+SI\n",
    "print(A)"
   ]
  },
  {
   "cell_type": "code",
   "execution_count": 6,
   "id": "3187eec5",
   "metadata": {},
   "outputs": [
    {
     "name": "stdout",
     "output_type": "stream",
     "text": [
      "7.0\n"
     ]
    }
   ],
   "source": [
    "#finding out the time\n",
    "P=8000\n",
    "R=0.087\n",
    "SI=4872\n",
    "X=P*R\n",
    "T=(SI/X)\n",
    "print(T)"
   ]
  },
  {
   "cell_type": "code",
   "execution_count": 10,
   "id": "cec73ca9",
   "metadata": {},
   "outputs": [
    {
     "name": "stdout",
     "output_type": "stream",
     "text": [
      "6.4\n"
     ]
    }
   ],
   "source": [
    "#finding out the rate\n",
    "P=3000\n",
    "T=4\n",
    "SI=768\n",
    "X=P*T\n",
    "R=(SI/X)\n",
    "print(R*100)"
   ]
  },
  {
   "cell_type": "code",
   "execution_count": 14,
   "id": "55da08fe",
   "metadata": {},
   "outputs": [
    {
     "name": "stdout",
     "output_type": "stream",
     "text": [
      "194.87171000000012\n"
     ]
    }
   ],
   "source": [
    "print(100*(1+0.1)**7)"
   ]
  },
  {
   "cell_type": "code",
   "execution_count": 16,
   "id": "4136abca",
   "metadata": {},
   "outputs": [
    {
     "name": "stdout",
     "output_type": "stream",
     "text": [
      "100\n",
      "194.87171000000012\n"
     ]
    }
   ],
   "source": [
    "#create a variable savings\n",
    "savings=100\n",
    "print(savings)\n",
    "#create a variable growth_multiplier\n",
    "growth_multiplier=1.1\n",
    "t=7\n",
    "#calculate result\n",
    "result=(savings*(growth_multiplier)**t)\n",
    "#print result\n",
    "print(result)\n",
    "    "
   ]
  },
  {
   "cell_type": "code",
   "execution_count": 17,
   "id": "84576610",
   "metadata": {},
   "outputs": [
    {
     "name": "stdout",
     "output_type": "stream",
     "text": [
      "compound interest\n",
      "True\n"
     ]
    }
   ],
   "source": [
    "#create a variable desc\n",
    "desc=\"compound interest\"\n",
    "#create a boolean with True value\n",
    "profitable = True\n",
    "print(desc)\n",
    "print(profitable)\n"
   ]
  },
  {
   "cell_type": "code",
   "execution_count": 19,
   "id": "eaffe61f",
   "metadata": {},
   "outputs": [
    {
     "name": "stdout",
     "output_type": "stream",
     "text": [
      "<class 'float'>\n",
      "<class 'str'>\n",
      "<class 'bool'>\n",
      "<class 'int'>\n",
      "<class 'str'>\n",
      "<class 'bool'>\n",
      "<class 'float'>\n"
     ]
    }
   ],
   "source": [
    "#defining variables\n",
    "A=10.7\n",
    "B=\"This is python course\"\n",
    "C=False\n",
    "#finding the type of variables\n",
    "print(type(A))\n",
    "print(type(B))\n",
    "print(type(C))\n",
    "print(type(savings))\n",
    "print(type(desc))\n",
    "print(type(profitable))\n",
    "print(type(growth_multiplier))"
   ]
  },
  {
   "cell_type": "code",
   "execution_count": 20,
   "id": "3b51277c",
   "metadata": {},
   "outputs": [
    {
     "name": "stdout",
     "output_type": "stream",
     "text": [
      "110.00000000000001\n"
     ]
    }
   ],
   "source": [
    "#assigning product of savings*growth_multiplier to year1\n",
    "year1=(savings*growth_multiplier)\n",
    "print(year1)"
   ]
  },
  {
   "cell_type": "code",
   "execution_count": 21,
   "id": "ccedeaa0",
   "metadata": {},
   "outputs": [
    {
     "name": "stdout",
     "output_type": "stream",
     "text": [
      "<class 'float'>\n"
     ]
    }
   ],
   "source": [
    "#finding the type of avriable\n",
    "print(type(year1))"
   ]
  },
  {
   "cell_type": "code",
   "execution_count": 25,
   "id": "29e075ea",
   "metadata": {},
   "outputs": [
    {
     "name": "stdout",
     "output_type": "stream",
     "text": [
      "compound interestcompound interest\n"
     ]
    }
   ],
   "source": [
    "#assigning sum of desc and desc to doubledesc\n",
    "doubledesc=(desc+desc)\n",
    "#finding the type of variable\n",
    "print(doubledesc)"
   ]
  },
  {
   "cell_type": "code",
   "execution_count": 31,
   "id": "86cbe6d1",
   "metadata": {},
   "outputs": [
    {
     "name": "stdout",
     "output_type": "stream",
     "text": [
      "I started with $100 and now have $194.87171000000012. Awesome\n"
     ]
    }
   ],
   "source": [
    "#definition of savings and result\n",
    "savings=100\n",
    "result=(100*(1.10)**7)\n",
    "savings1=str(savings)\n",
    "result1=str(result)\n",
    "#changing type float to type string and concatinating strings together\n",
    "print(\"I started with $\" + savings1 + \" and now have $\" + result1 + \". Awesome\")"
   ]
  },
  {
   "cell_type": "code",
   "execution_count": 32,
   "id": "b1edc541",
   "metadata": {},
   "outputs": [
    {
     "name": "stdout",
     "output_type": "stream",
     "text": [
      "6.2831852\n"
     ]
    }
   ],
   "source": [
    "#definition of pi_string\n",
    "pi_string=\"3.1415926\"\n",
    "#converting string type to float type\n",
    "pi_float=float(pi_string)\n",
    "#multiplying by 2 to save this value in double_pi\n",
    "double_pi=pi_float*2\n",
    "print(double_pi)"
   ]
  },
  {
   "cell_type": "code",
   "execution_count": 35,
   "id": "653b02b1",
   "metadata": {},
   "outputs": [
    {
     "data": {
      "text/plain": [
       "'I can add intergers, like 5 to strings.'"
      ]
     },
     "execution_count": 35,
     "metadata": {},
     "output_type": "execute_result"
    }
   ],
   "source": [
    "\"I can add intergers, like \" + str(5) + \" to strings.\""
   ]
  },
  {
   "cell_type": "code",
   "execution_count": 36,
   "id": "3726b5ee",
   "metadata": {},
   "outputs": [
    {
     "data": {
      "text/plain": [
       "'I said Hey Hey Hey!'"
      ]
     },
     "execution_count": 36,
     "metadata": {},
     "output_type": "execute_result"
    }
   ],
   "source": [
    "\"I said \" + (\"Hey \"*2) + \"Hey!\""
   ]
  },
  {
   "cell_type": "code",
   "execution_count": 37,
   "id": "298b3119",
   "metadata": {},
   "outputs": [
    {
     "ename": "TypeError",
     "evalue": "can only concatenate str (not \"int\") to str",
     "output_type": "error",
     "traceback": [
      "\u001b[1;31m---------------------------------------------------------------------------\u001b[0m",
      "\u001b[1;31mTypeError\u001b[0m                                 Traceback (most recent call last)",
      "\u001b[1;32m<ipython-input-37-2844266004de>\u001b[0m in \u001b[0;36m<module>\u001b[1;34m\u001b[0m\n\u001b[1;32m----> 1\u001b[1;33m \u001b[1;34m\"The correct answer to this multiple choice excercise is answer number\"\u001b[0m \u001b[1;33m+\u001b[0m \u001b[1;36m2\u001b[0m\u001b[1;33m\u001b[0m\u001b[1;33m\u001b[0m\u001b[0m\n\u001b[0m",
      "\u001b[1;31mTypeError\u001b[0m: can only concatenate str (not \"int\") to str"
     ]
    }
   ],
   "source": [
    "\"The correct answer to this multiple choice excercise is answer number\" + 2"
   ]
  },
  {
   "cell_type": "code",
   "execution_count": 38,
   "id": "a97aba1f",
   "metadata": {},
   "outputs": [
    {
     "data": {
      "text/plain": [
       "1"
      ]
     },
     "execution_count": 38,
     "metadata": {},
     "output_type": "execute_result"
    }
   ],
   "source": [
    "True + False"
   ]
  },
  {
   "cell_type": "code",
   "execution_count": 1,
   "id": "bb0bb86a",
   "metadata": {},
   "outputs": [
    {
     "name": "stdout",
     "output_type": "stream",
     "text": [
      "what is the num18\n"
     ]
    }
   ],
   "source": [
    "#defining a variable\n",
    "number=input(\"what is the num\")\n",
    "num1=float(number)\n"
   ]
  },
  {
   "cell_type": "code",
   "execution_count": 2,
   "id": "e0f908d5",
   "metadata": {},
   "outputs": [
    {
     "name": "stdout",
     "output_type": "stream",
     "text": [
      "even\n"
     ]
    }
   ],
   "source": [
    "#finding whether the number is divisible by 2\n",
    "if num1%2==0:\n",
    "    print(\"even\")\n",
    "else:\n",
    "    print(\"odd\")"
   ]
  },
  {
   "cell_type": "code",
   "execution_count": 6,
   "id": "a0162df3",
   "metadata": {},
   "outputs": [
    {
     "name": "stdout",
     "output_type": "stream",
     "text": [
      "what is the temperature40\n",
      "104.0 F\n"
     ]
    }
   ],
   "source": [
    "#defining variable and putting in the value\n",
    "temp=input(\"what is the temperature\")\n",
    "temp1=float(temp)\n",
    "#formula for converting celcius to farhenite\n",
    "temp2=(temp1*1.8)+32\n",
    "print(temp2, \"F\")"
   ]
  },
  {
   "cell_type": "code",
   "execution_count": 8,
   "id": "480f30dd",
   "metadata": {},
   "outputs": [
    {
     "name": "stdout",
     "output_type": "stream",
     "text": [
      "S14\n",
      "S23\n",
      "S36\n",
      "5.332682251925386\n"
     ]
    }
   ],
   "source": [
    "#import a package\n",
    "import math\n",
    "a=float(input(\"S1\"))\n",
    "b=float(input(\"S2\"))\n",
    "c=float(input(\"S3\"))\n",
    "s=(a+b+c)/2\n",
    "#calculating area of traingle \n",
    "Area=math.sqrt(s*(s-a)*(s-b)*(s-c))\n",
    "print(Area)\n"
   ]
  },
  {
   "cell_type": "code",
   "execution_count": 11,
   "id": "fe54d6f8",
   "metadata": {},
   "outputs": [
    {
     "name": "stdout",
     "output_type": "stream",
     "text": [
      "radius4\n",
      "pi is 3.141592653589793\n",
      "25.132741228718345\n",
      "50.26548245743669\n"
     ]
    }
   ],
   "source": [
    "#defining a variable \n",
    "r=float(input(\"radius\"))\n",
    "#printing the value of 5\n",
    "print(\"pi is\", math.pi)\n",
    "#calculating circumfrence of circle\n",
    "c=2*math.pi*r\n",
    "#calculating area of circle\n",
    "a=(math.pi)*r**2\n",
    "print(c)\n",
    "print(a)"
   ]
  },
  {
   "cell_type": "code",
   "execution_count": 14,
   "id": "5793ac11",
   "metadata": {},
   "outputs": [
    {
     "name": "stdout",
     "output_type": "stream",
     "text": [
      "what is the number15\n"
     ]
    }
   ],
   "source": [
    "#defining a variable\n",
    "x=int(input(\"what is the number\"))\n",
    "\n",
    "    "
   ]
  },
  {
   "cell_type": "code",
   "execution_count": 15,
   "id": "7a442472",
   "metadata": {},
   "outputs": [
    {
     "name": "stdout",
     "output_type": "stream",
     "text": [
      "multiple of 5\n"
     ]
    }
   ],
   "source": [
    "#checking if x is a multiple of 5\n",
    "if x%5==0:\n",
    "    print(\"multiple of 5\")\n",
    "else:\n",
    "    print(\"not a multiple of 5\")\n",
    "    "
   ]
  },
  {
   "cell_type": "code",
   "execution_count": null,
   "id": "50cda0b5",
   "metadata": {},
   "outputs": [],
   "source": []
  }
 ],
 "metadata": {
  "kernelspec": {
   "display_name": "Python 3",
   "language": "python",
   "name": "python3"
  },
  "language_info": {
   "codemirror_mode": {
    "name": "ipython",
    "version": 3
   },
   "file_extension": ".py",
   "mimetype": "text/x-python",
   "name": "python",
   "nbconvert_exporter": "python",
   "pygments_lexer": "ipython3",
   "version": "3.8.8"
  }
 },
 "nbformat": 4,
 "nbformat_minor": 5
}
